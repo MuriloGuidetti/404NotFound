{
 "cells": [
  {
   "cell_type": "markdown",
   "metadata": {},
   "source": [
    "# Trabalho Parte 2\n",
    "\n",
    "Nome: Murilo Guidetti Andrietta             Ra: 147472  \n",
    "Nome: Naomi Takemoto                        Ra: 184849  \n",
    "\n",
    "\n",
    "## Modelo Conceitual\n",
    "![Imagem Modelo Conceitual](modeloConceitual.jpeg).\n"
   ]
  },
  {
   "cell_type": "markdown",
   "metadata": {},
   "source": [
    "## Modelo Lógico\n",
    "Sample(\\_ID_Sample_, Clump_Thickness, Uniformity_of_Cell_Size, Uniformity_of_Cell_Shape, Marginal_Adhesion, Single_Epithelial_Cell_Size, Bare_Nuclei, Bland_Chromatin, Normal_Nucleoli, Mitoses, ID_Dianostic, ID_Patient);  \n",
    "    CHE: ID_Dianostic (Diagnostic: ID_Diagnostic)  \n",
    "    CHE: ID_Patient (Patient: ID);  \n",
    "\n",
    "Diagnostic (\\_ID_Diagnostic_, Result);  \n",
    "\n",
    "Patient (\\_ID_, Name, Sex, Age);  \n",
    "\n",
    "\n",
    "Patient-Previous_Diseases(\\_ID_Patient_, \\_ID_Previous_Diseases_);  \n",
    "    CHE: ID_Previous_Diseases (Previous_Diseases: ID)  \n",
    "    CHE: ID_Patient (Patient: ID);  \n",
    "\n",
    "\n",
    "Patient-Symptoms (\\_ID_Patient_, _\\ID_Symptoms_);  \n",
    "ID_Symptoms (Symptoms: ID)  \n",
    "    CHE: ID_Patient (Patient: ID);  \n",
    "\n",
    "\n",
    "Previous_Diseases (\\_ID_, Name, Chronic);  \n",
    "\n",
    "\n",
    "Symptoms(ID, Name, Frequency_per_year, Intensity);  \n",
    "\n",
    "## Algumas considerações:\n",
    "A aplicação proposta pela dupla busca diagnosticar pacientes que fazem exames (geram samples) utilizando a técnica de machine learnig. Para que seja possível treinar um algoritmo deste tipo são necessários dados de amostras das quais o algoritmo consegue \"aprender\", nesta etapa criamos as relações para representar cada uma das classes descritas no modelo conceitual. No entanto, os dados carregados a partir do documentoo csv contém apenas informaçãoes referentes à sample, que contém informações a serem usadas no processo de treinamento do algoritmo de aprendizagem automática.  \n",
    "A ideia é, na sua totalidade, o sistema relaciona um paciente (com seus respectivos atributos) e seu conjunto de amostras provenientes de exames."
   ]
  },
  {
   "cell_type": "code",
   "execution_count": 1,
   "metadata": {},
   "outputs": [],
   "source": [
    "%defaultDatasource jdbc:h2:mem:db"
   ]
  },
  {
   "cell_type": "code",
   "execution_count": 2,
   "metadata": {},
   "outputs": [],
   "source": [
    "DROP TABLE IF EXISTS Diagnostic;\n",
    "DROP TABLE IF EXISTS Sample;\n",
    "DROP TABLE IF EXISTS Patient;\n",
    "DROP TABLE IF EXISTS Previous_Diseases;\n",
    "DROP TABLE IF EXISTS Symptoms;\n",
    "DROP TABLE IF EXISTS Patient_Previous_Diseases;\n",
    "DROP TABLE IF EXISTS Patient_Symptoms;\n",
    "\n",
    "\n",
    "CREATE TABLE Diagnostic\n",
    "(\n",
    "    ID_Diagnostic INTEGER, \n",
    "    Result VARCHAR(1) NOT NULL,\n",
    "    PRIMARY KEY (ID_Diagnostic)\n",
    ");\n",
    "\n",
    "\n",
    "\n",
    "CREATE TABLE Sample\n",
    "(\n",
    "    ID_Sample INTEGER NOT NULL,\n",
    "    Clump_Thickness INTEGER NOT NULL,\n",
    "    Uniformity_of_Cell_Size INTEGER NOT NULL,\n",
    "    Uniformity_of_Cell_Shape INTEGER NOT NULL,\n",
    "    Marginal_Adhesion INTEGER NOT NULL,\n",
    "    Single_Epithelial_Cell_Size INTEGER NOT NULL,\n",
    "    Bare_Nuclei INTEGER NOT NULL,\n",
    "    Bland_Chromatin INTEGER NOT NULL,\n",
    "    Normal_Nucleoli INTEGER NOT NULL,\n",
    "    Mitoses INTEGER NOT NULL,\n",
    "    ID_Diagnostic INTEGER --NOT NULL,\n",
    "   -- ID_Patient INTEGER, -- NOT NULL,\n",
    "    \n",
    "--     PRIMARY KEY(ID_Sample),\n",
    ")\n",
    "AS SELECT\n",
    "ID_Sample,\n",
    "Clump_Thickness,\n",
    "Uniformity_of_Cell_Size,\n",
    "Uniformity_of_Cell_Shape,\n",
    "Marginal_Adhesion,\n",
    "Single_Epithelial_Cell_Size,\n",
    "Bare_Nuclei,\n",
    "Bland_Chromatin,\n",
    "Normal_Nucleoli,\n",
    "Mitoses,\n",
    "Diagnostic\n",
    "\n",
    "FROM CSVREAD('../data/breast-cancer-wisconsin.csv');\n",
    "\n",
    "\n",
    "CREATE TABLE Patient\n",
    "(\n",
    "    ID INTEGER NOT NULL,\n",
    "    Name VARCHAR(500) NOT NULL,\n",
    "    Sex VARCHAR(1) NOT NULL, \n",
    "    Age INTEGER NOT NULL,\n",
    "    Sample INTEGER,\n",
    "    \n",
    "    PRIMARY KEY(ID)\n",
    ");\n",
    "\n",
    "CREATE TABLE Previous_Diseases\n",
    "(\n",
    "    ID INTEGER NOT NULL,\n",
    "    Name VARCHAR(500) NULL, \n",
    "    Chronic BOOLEAN NOT NULL,\n",
    "    \n",
    "    PRIMARY KEY(ID)\n",
    ");\n",
    "\n",
    "CREATE TABLE Symptoms\n",
    "(\n",
    "    ID INTEGER NOT NULL, \n",
    "    Name VARCHAR(500) NOT NULL, \n",
    "    Frequency_per_year INTEGER NOT NULL, \n",
    "    Intensity INTEGER NOT NULL,\n",
    "    \n",
    "    PRIMARY KEY(ID)\n",
    ");\n",
    "\n",
    "CREATE TABLE Patient_Previous_Diseases\n",
    "(\n",
    "    ID_Patient INTEGER NOT NULL, \n",
    "    ID_Previous_Diseases INTEGER NOT NULL,\n",
    "    \n",
    "    PRIMARY KEY (ID_Patient, ID_Previous_Diseases),\n",
    "    \n",
    "    FOREIGN KEY (ID_Patient) \n",
    "       REFERENCES Patient(ID)\n",
    "       ON DELETE NO ACTION\n",
    "       ON UPDATE NO ACTION,\n",
    "    \n",
    "    FOREIGN KEY (ID_Previous_Diseases) \n",
    "       REFERENCES Previous_Diseases(ID)\n",
    "       ON DELETE NO ACTION\n",
    "       ON UPDATE NO ACTION\n",
    ");\n",
    "\n",
    "CREATE TABLE Patient_Symptoms\n",
    "(\n",
    "    ID_Patient INTEGER NOT NULL, \n",
    "    ID_Symptoms INTEGER NOT NULL,\n",
    "    \n",
    "    PRIMARY KEY (ID_Patient, ID_Symptoms),\n",
    "    \n",
    "    FOREIGN KEY (ID_Patient) \n",
    "       REFERENCES Patient(ID)\n",
    "       ON DELETE NO ACTION\n",
    "       ON UPDATE NO ACTION,\n",
    "    \n",
    "    FOREIGN KEY (ID_Symptoms) \n",
    "       REFERENCES Symptoms(ID)\n",
    "       ON DELETE NO ACTION\n",
    "       ON UPDATE NO ACTION\n",
    ");\n",
    "\n"
   ]
  },
  {
   "cell_type": "markdown",
   "metadata": {},
   "source": [
    "## Relacionando alguns pacientes com uma sintomas, amostras e histórico"
   ]
  },
  {
   "cell_type": "code",
   "execution_count": 3,
   "metadata": {},
   "outputs": [],
   "source": [
    "INSERT INTO Patient VALUES (1,'Cremilda', 'F', 90, 1016277);\n",
    "INSERT INTO Previous_Diseases VALUES(1,'Diabetes', True);\n",
    "INSERT INTO Patient_Previous_Diseases VALUES (1, 1);\n",
    "INSERT INTO Symptoms VALUES (1,'Dor de Cabeça',10, 2);\n",
    "INSERT INTO Patient_Symptoms VALUES (1,1);\n",
    "INSERT INTO Patient VALUES (2,'Pessoa', 'F', 90, 1002945);\n",
    " "
   ]
  },
  {
   "cell_type": "code",
   "execution_count": 4,
   "metadata": {},
   "outputs": [
    {
     "data": {
      "application/vnd.jupyter.widget-view+json": {
       "model_id": "3e43bc76-4900-4863-a2fa-a9e5c78cffb4",
       "version_major": 2,
       "version_minor": 0
      },
      "method": "display_data"
     },
     "metadata": {},
     "output_type": "display_data"
    }
   ],
   "source": [
    "SELECT * \n",
    "FROM Patient, Sample\n",
    "WHERE Patient.sample = Sample.ID_sample;"
   ]
  },
  {
   "cell_type": "code",
   "execution_count": 5,
   "metadata": {
    "scrolled": true
   },
   "outputs": [
    {
     "data": {
      "application/vnd.jupyter.widget-view+json": {
       "model_id": "1917fc7b-03ff-4d61-9308-443bc9ecb7ee",
       "version_major": 2,
       "version_minor": 0
      },
      "method": "display_data"
     },
     "metadata": {},
     "output_type": "display_data"
    }
   ],
   "source": [
    "SELECT * FROM Sample;"
   ]
  },
  {
   "cell_type": "markdown",
   "metadata": {},
   "source": [
    "## Número de amostras malígnas"
   ]
  },
  {
   "cell_type": "code",
   "execution_count": 6,
   "metadata": {},
   "outputs": [
    {
     "data": {
      "text/plain": [
       "239"
      ]
     },
     "execution_count": 6,
     "metadata": {},
     "output_type": "execute_result"
    }
   ],
   "source": [
    "DROP TABLE IF EXISTS AmostrasMalignas;\n",
    "\n",
    "CREATE VIEW AmostrasMalignas AS\n",
    "SELECT COUNT(*) Malignos\n",
    "FROM Sample s\n",
    "WHERE s.Id_Diagnostic = 4;\n",
    "\n",
    "SELECT * FROM AmostrasMalignas;"
   ]
  },
  {
   "cell_type": "markdown",
   "metadata": {},
   "source": [
    "## Número de Amostras Benígnas"
   ]
  },
  {
   "cell_type": "code",
   "execution_count": 7,
   "metadata": {},
   "outputs": [
    {
     "data": {
      "text/plain": [
       "444"
      ]
     },
     "execution_count": 7,
     "metadata": {},
     "output_type": "execute_result"
    }
   ],
   "source": [
    "DROP TABLE IF EXISTS AmostrasBenignas;\n",
    "\n",
    "CREATE VIEW AmostrasBenignas AS\n",
    "SELECT COUNT(*) Benignos\n",
    "FROM Sample s\n",
    "WHERE s.Id_Diagnostic = 2;\n",
    "\n",
    "SELECT * FROM AmostrasBenignas;"
   ]
  },
  {
   "cell_type": "markdown",
   "metadata": {},
   "source": [
    "## Número de amostras malígnas que apresentam anormalias no tamanho e forma das células."
   ]
  },
  {
   "cell_type": "code",
   "execution_count": 8,
   "metadata": {},
   "outputs": [
    {
     "data": {
      "text/plain": [
       "98"
      ]
     },
     "execution_count": 8,
     "metadata": {},
     "output_type": "execute_result"
    }
   ],
   "source": [
    "SELECT COUNT(*) M\n",
    "FROM Sample, AmostrasMalignas\n",
    "WHERE (Uniformity_of_Cell_Size >= 7) AND (Uniformity_of_Cell_Shape >= 7) AND (Sample.Id_Diagnostic = 4);"
   ]
  },
  {
   "cell_type": "markdown",
   "metadata": {},
   "source": [
    "## Número de amostras malígnas que apresentam anormalias no núcleo."
   ]
  },
  {
   "cell_type": "code",
   "execution_count": 9,
   "metadata": {},
   "outputs": [
    {
     "data": {
      "text/plain": [
       "70"
      ]
     },
     "execution_count": 9,
     "metadata": {},
     "output_type": "execute_result"
    }
   ],
   "source": [
    "SELECT COUNT(*) M\n",
    "FROM Sample, AmostrasMalignas\n",
    "WHERE (Normal_Nucleoli >= 7) AND (Bare_Nuclei >= 7) AND (Sample.Id_Diagnostic = 4);"
   ]
  },
  {
   "cell_type": "markdown",
   "metadata": {},
   "source": [
    "## Número de amostras benígnas que possuem baixo valor de anomalia na forma e tamanho da célula."
   ]
  },
  {
   "cell_type": "code",
   "execution_count": 10,
   "metadata": {},
   "outputs": [
    {
     "data": {
      "text/plain": [
       "424"
      ]
     },
     "execution_count": 10,
     "metadata": {},
     "output_type": "execute_result"
    }
   ],
   "source": [
    "SELECT COUNT(*) M\n",
    "FROM Sample, AmostrasMalignas\n",
    "WHERE (Uniformity_of_Cell_Size <= 3) AND (Uniformity_of_Cell_Shape <= 3) AND (Sample.Id_Diagnostic = 2);"
   ]
  },
  {
   "cell_type": "markdown",
   "metadata": {},
   "source": [
    "## Número de amostras que possuem baixo valor de anomalia no núcleo."
   ]
  },
  {
   "cell_type": "code",
   "execution_count": 11,
   "metadata": {},
   "outputs": [
    {
     "data": {
      "text/plain": [
       "415"
      ]
     },
     "execution_count": 11,
     "metadata": {},
     "output_type": "execute_result"
    }
   ],
   "source": [
    "SELECT COUNT(*) M\n",
    "FROM Sample, AmostrasMalignas\n",
    "WHERE (Normal_Nucleoli <= 3) AND (Bare_Nuclei <= 3) AND (Sample.Id_Diagnostic = 2);"
   ]
  },
  {
   "cell_type": "markdown",
   "metadata": {},
   "source": [
    "## Número de amostras malígnas que possuem média de todos os atributos maiores que 5."
   ]
  },
  {
   "cell_type": "code",
   "execution_count": 12,
   "metadata": {},
   "outputs": [
    {
     "data": {
      "text/plain": [
       "126"
      ]
     },
     "execution_count": 12,
     "metadata": {},
     "output_type": "execute_result"
    }
   ],
   "source": [
    "DROP TABLE IF EXISTS Attributes_Average;\n",
    "\n",
    "CREATE VIEW Attributes_Average AS\n",
    "SELECT Id_Sample, ((Clump_Thickness + Uniformity_of_Cell_Size + Uniformity_of_Cell_Shape + Marginal_Adhesion + Single_Epithelial_Cell_Size +\n",
    "       Bare_Nuclei + Bland_Chromatin + Normal_Nucleoli + Mitoses)/9) AS Media FROM Sample;\n",
    "       \n",
    "SELECT COUNT(*) FROM Attributes_Average AA, Sample S WHERE (AA.Id_Sample = S.Id_Sample) AND (AA.Media > 5) AND (S.Id_Diagnostic = 4);"
   ]
  },
  {
   "cell_type": "markdown",
   "metadata": {},
   "source": [
    "## Número de amostras benígnas que possuem média de todos os atributos menores que 5."
   ]
  },
  {
   "cell_type": "code",
   "execution_count": 13,
   "metadata": {},
   "outputs": [
    {
     "data": {
      "text/plain": [
       "559"
      ]
     },
     "execution_count": 13,
     "metadata": {},
     "output_type": "execute_result"
    }
   ],
   "source": [
    "SELECT COUNT(*) FROM Attributes_Average AA, Sample S WHERE (AA.Id_Sample = S.Id_Sample) AND (AA.Media < 5) AND (S.Id_Diagnostic = 2);"
   ]
  }
 ],
 "metadata": {
  "kernelspec": {
   "display_name": "SQL",
   "language": "SQL",
   "name": "sql"
  },
  "language_info": {
   "codemirror_mode": "sql",
   "file_extension": ".sql",
   "mimetype": "",
   "name": "SQL",
   "nbconverter_exporter": "",
   "version": ""
  }
 },
 "nbformat": 4,
 "nbformat_minor": 2
}
